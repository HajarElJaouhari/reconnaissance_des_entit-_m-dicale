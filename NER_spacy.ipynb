{
  "nbformat": 4,
  "nbformat_minor": 0,
  "metadata": {
    "colab": {
      "name": "NER_spacy.ipynb",
      "provenance": []
    },
    "kernelspec": {
      "name": "python3",
      "display_name": "Python 3"
    },
    "language_info": {
      "name": "python"
    }
  },
  "cells": [
    {
      "cell_type": "markdown",
      "source": [
        "Libraries and Packages"
      ],
      "metadata": {
        "id": "ZsA2KIOP7B2D"
      }
    },
    {
      "cell_type": "code",
      "execution_count": 1,
      "metadata": {
        "colab": {
          "base_uri": "https://localhost:8080/"
        },
        "id": "NpqKN-rSXJdW",
        "outputId": "3bd39659-110c-4643-cf16-034b1db17c08"
      },
      "outputs": [
        {
          "output_type": "stream",
          "name": "stdout",
          "text": [
            "Collecting pycrf\n",
            "  Downloading pycrf-0.0.1.tar.gz (1.1 kB)\n",
            "Building wheels for collected packages: pycrf\n",
            "  Building wheel for pycrf (setup.py) ... \u001b[?25l\u001b[?25hdone\n",
            "  Created wheel for pycrf: filename=pycrf-0.0.1-py3-none-any.whl size=1897 sha256=565c02f35491e28cfe082abff8d9cebba06358d8a3f9b92b43d1a6d62779b8c1\n",
            "  Stored in directory: /root/.cache/pip/wheels/0b/68/37/a457e156cfd6174ed28c9c8cb76f18eeb559b760d84c0a22eb\n",
            "Successfully built pycrf\n",
            "Installing collected packages: pycrf\n",
            "Successfully installed pycrf-0.0.1\n",
            "Collecting sklearn-crfsuite\n",
            "  Downloading sklearn_crfsuite-0.3.6-py2.py3-none-any.whl (12 kB)\n",
            "Requirement already satisfied: six in /usr/local/lib/python3.7/dist-packages (from sklearn-crfsuite) (1.15.0)\n",
            "Collecting python-crfsuite>=0.8.3\n",
            "  Downloading python_crfsuite-0.9.7-cp37-cp37m-manylinux1_x86_64.whl (743 kB)\n",
            "\u001b[K     |████████████████████████████████| 743 kB 9.4 MB/s \n",
            "\u001b[?25hRequirement already satisfied: tqdm>=2.0 in /usr/local/lib/python3.7/dist-packages (from sklearn-crfsuite) (4.62.3)\n",
            "Requirement already satisfied: tabulate in /usr/local/lib/python3.7/dist-packages (from sklearn-crfsuite) (0.8.9)\n",
            "Installing collected packages: python-crfsuite, sklearn-crfsuite\n",
            "Successfully installed python-crfsuite-0.9.7 sklearn-crfsuite-0.3.6\n"
          ]
        }
      ],
      "source": [
        "!pip install pycrf\n",
        "!pip install sklearn-crfsuite"
      ]
    },
    {
      "cell_type": "code",
      "source": [
        "# Library Import\n",
        "import pandas as pd\n",
        "import re\n",
        "import spacy\n",
        "import warnings\n",
        "warnings.filterwarnings('ignore')\n",
        "\n",
        "# Import model and metrics\n",
        "from sklearn_crfsuite import CRF, scorers, metrics"
      ],
      "metadata": {
        "id": "DGfTAhfAYjnG"
      },
      "execution_count": 2,
      "outputs": []
    },
    {
      "cell_type": "markdown",
      "source": [
        "Extraire la phrase des mots : Il aide à extraire le mot basé sur le séparateur pour former la phrase"
      ],
      "metadata": {
        "id": "WvRgkqkl7J2O"
      }
    },
    {
      "cell_type": "code",
      "source": [
        "# Extract sentence from words\n",
        "def content_extract(file_path='',sep='\\t'):\n",
        "    try:\n",
        "        with open (file_path,'r',encoding='utf-8') as text:\n",
        "            if text.mode  == 'r':\n",
        "                content = text.readlines()\n",
        "        sentence = []\n",
        "        final_sentence=''\n",
        "        for c in content:\n",
        "            content_word = c.strip('\\n')\n",
        "            if content_word == '':\n",
        "                #Une fois qu'il est mis en correspondance avec le séparateur, il ajoute la chaîne concaténée extraite précédente en tant que phrase\n",
        "# phrase_finale = re.sub('(?<=[\\(]) | (?=[%\\',)])','', phrase_finale)\n",
        "                sentence.append(final_sentence.strip(' '))\n",
        "\n",
        "                #Initialize for next sentence\n",
        "                final_sentence=''\n",
        "            else:\n",
        "                # Jusqu'à ce que la boucle identifie le séparateur, elle concatène la chaîne\n",
        "                final_sentence+=content_word+' '\n",
        "        print('Total identified value: ',len(sentence),'\\n')\n",
        "        print('Sample display value:\\n',sentence[:5])\n",
        "        return sentence\n",
        "    except FileNotFoundError:\n",
        "        print('Check and provide proper file path')"
      ],
      "metadata": {
        "id": "l8tHTKO1Yn_P"
      },
      "execution_count": 3,
      "outputs": []
    },
    {
      "cell_type": "code",
      "source": [
        "# Une classe pour récupérer les détails des phrases du dataframe\n",
        "class sentencedetail(object):\n",
        "    def __init__(self, data):\n",
        "        self.data = data\n",
        "        self.empty = False\n",
        "        agg_func = lambda s: [(w, p, l) for w, p, l in zip(s[\"word\"].values.tolist(), s[\"pos\"].values.tolist(),s[\"label\"].values.tolist())]\n",
        "        self.grouped = self.data.groupby(\"sentence\").apply(agg_func)\n",
        "        self.sentences = [s for s in self.grouped]"
      ],
      "metadata": {
        "id": "fNehkw9JY2gN"
      },
      "execution_count": 4,
      "outputs": []
    },
    {
      "cell_type": "code",
      "source": [
        "# Feature set\n",
        "def word2features(sent, i):\n",
        "    word = sent[i][0]\n",
        "    postag = sent[i][1]\n",
        "\n",
        "    features = {\n",
        "        'bias': 1.0,\n",
        "        'word.lower()': word.lower(),\n",
        "        'word[0]': word[0],\n",
        "        'word[-1]': word[-1],\n",
        "        'word[-2:]': word[-2:],\n",
        "        'word.isupper()': word.isupper(),\n",
        "        'word.istitle()': word.istitle(),\n",
        "        'word.isdigit()': word.isdigit(),\n",
        "        'postag':postag,\n",
        "        'postag_isnounpronoun': postag in ['NOUN','PROPN'],\n",
        "        'postag[:2]': postag[:2],\n",
        "    }\n",
        "    if i > 0:\n",
        "        word1 = sent[i-1][0]\n",
        "        postag1 = sent[i-1][1]\n",
        "        features.update({\n",
        "            '-1:word.lower()': word1.lower(),\n",
        "            '-1:word[0]': word1[0],\n",
        "            '-1:word[-1]': word1[-1],\n",
        "            '-1:word.istitle()': word1.istitle(),\n",
        "            '-1:word.isupper()': word1.isupper(),\n",
        "            '-1:postag': postag1,\n",
        "            '-1:postag[:2]': postag1[:2],\n",
        "            '-1:postag_isnounpronoun': postag1 in ['NOUN','PROPN']\n",
        "        })\n",
        "    else:\n",
        "        features['BOS'] = True\n",
        "\n",
        "    if i < len(sent)-1:\n",
        "        word1 = sent[i+1][0]\n",
        "        postag1 = sent[i+1][1]\n",
        "        features.update({\n",
        "            '+1:word.lower()': word1.lower(),\n",
        "            '+1:word.istitle()': word1.istitle(),\n",
        "            '+1:word.isupper()': word1.isupper(),\n",
        "            '+1:postag': postag1,\n",
        "            '+1:postag[:2]': postag1[:2],\n",
        "            '+1:postag_isnounpronoun': postag1 in ['NOUN','PROPN']\n",
        "        })\n",
        "    else:\n",
        "        features['EOS'] = True\n",
        "\n",
        "    return features"
      ],
      "metadata": {
        "id": "zwRRJiuZZesb"
      },
      "execution_count": 5,
      "outputs": []
    },
    {
      "cell_type": "code",
      "source": [
        "# Définissez une fonction pour extraire les caractéristiques d'une phrase.\n",
        "def sent2features(sent):\n",
        "    return [word2features(sent, i) for i in range(len(sent))]"
      ],
      "metadata": {
        "id": "X-fecAWlZqZ3"
      },
      "execution_count": 6,
      "outputs": []
    },
    {
      "cell_type": "code",
      "source": [
        "# Définissez une fonction pour obtenir les étiquettes d'une phrase.\n",
        "def sent2labels(sent):\n",
        "    return [label for token, postag, label in sent]"
      ],
      "metadata": {
        "id": "WVB8_mNOZ5qr"
      },
      "execution_count": 7,
      "outputs": []
    },
    {
      "cell_type": "code",
      "source": [
        "# Extraction de Train sentence à partir de la data\n",
        "train_sent = content_extract(file_path='train_sent',sep='\\n')"
      ],
      "metadata": {
        "colab": {
          "base_uri": "https://localhost:8080/"
        },
        "id": "yWkl5152Z9JP",
        "outputId": "59cc631e-f927-431d-8db0-75f061c5f0ae"
      },
      "execution_count": 8,
      "outputs": [
        {
          "output_type": "stream",
          "name": "stdout",
          "text": [
            "Total identified value:  2599 \n",
            "\n",
            "Sample display value:\n",
            " ['All live births > or = 23 weeks at the University of Vermont in 1995 ( n = 2395 ) were retrospectively analyzed for delivery route , indication for cesarean , gestational age , parity , and practice group ( to reflect risk status )', 'The total cesarean rate was 14.4 % ( 344 of 2395 ) , and the primary rate was 11.4 % ( 244 of 2144 )', 'Abnormal presentation was the most common indication ( 25.6 % , 88 of 344 )', \"The `` corrected '' cesarean rate ( maternal-fetal medicine and transported patients excluded ) was 12.4 % ( 273 of 2194 ) , and the `` corrected '' primary rate was 9.6 % ( 190 of 1975 )\", \"Arrest of dilation was the most common indication in both `` corrected '' subgroups ( 23.4 and 24.6 % , respectively )\"]\n"
          ]
        }
      ]
    },
    {
      "cell_type": "code",
      "source": [
        "# Train label extraction from dataset\n",
        "train_label = content_extract(file_path='train_label',sep='\\n')"
      ],
      "metadata": {
        "colab": {
          "base_uri": "https://localhost:8080/"
        },
        "id": "oV9aV_plbse_",
        "outputId": "df5ac062-8aeb-4eed-8de7-965864e29500"
      },
      "execution_count": 9,
      "outputs": [
        {
          "output_type": "stream",
          "name": "stdout",
          "text": [
            "Total identified value:  2599 \n",
            "\n",
            "Sample display value:\n",
            " ['O O O O O O O O O O O O O O O O O O O O O O O O O O O O O O O O O O O O O O O O O O O O O', 'O O O O O O O O O O O O O O O O O O O O O O O O O', 'O O O O O O O O O O O O O O O', 'O O O O O O O O O O O O O O O O O O O O O O O O O O O O O O O O O O O O O O', 'O O O O O O O O O O O O O O O O O O O O O O']\n"
          ]
        }
      ]
    },
    {
      "cell_type": "code",
      "source": [
        "# Test sentence extraction from dataset\n",
        "test_sent = content_extract(file_path='test_sent',sep='\\n')"
      ],
      "metadata": {
        "colab": {
          "base_uri": "https://localhost:8080/"
        },
        "id": "hwDhPUy4b0mU",
        "outputId": "f07fef61-8c49-42bd-e857-89251c1cae19"
      },
      "execution_count": 10,
      "outputs": [
        {
          "output_type": "stream",
          "name": "stdout",
          "text": [
            "Total identified value:  1056 \n",
            "\n",
            "Sample display value:\n",
            " ['Furthermore , when all deliveries were analyzed , regardless of risk status but limited to gestational age > or = 36 weeks , the rates did not change ( 12.6 % , 280 of 2214 ; primary 9.2 % , 183 of 1994 )', 'As the ambient temperature increases , there is an increase in insensible fluid loss and the potential for dehydration', 'The daily high temperature ranged from 71 to 104 degrees F and AFI values ranged from 1.7 to 24.7 cm during the study period', 'There was a significant correlation between the 2- , 3- , and 4-day mean temperature and AFI , with the 4-day mean being the most significant ( r = 0.31 , p & # 60 ; 0.001 )', 'Fluctuations in ambient temperature are inversely correlated to changes in AFI']\n"
          ]
        }
      ]
    },
    {
      "cell_type": "code",
      "source": [
        "# Test label extraction from dataset\n",
        "test_label = content_extract(file_path='test_label',sep='\\n')"
      ],
      "metadata": {
        "colab": {
          "base_uri": "https://localhost:8080/"
        },
        "id": "JO-XNYEzb6Ry",
        "outputId": "1d9d469a-9ac8-4912-89ed-a059d7db5d6b"
      },
      "execution_count": 11,
      "outputs": [
        {
          "output_type": "stream",
          "name": "stdout",
          "text": [
            "Total identified value:  1056 \n",
            "\n",
            "Sample display value:\n",
            " ['O O O O O O O O O O O O O O O O O O O O O O O O O O O O O O O O O O O O O O O O O O O O', 'O O O O O O O O O O O O O O O O O O O', 'O O O O O O O O O O O O O O O O O O O O O O O O', 'O O O O O O O O O O O O O O O O O O O O O O O O O O O O O O O O O O O O O O', 'O O O O O O O O O O O']\n"
          ]
        }
      ]
    },
    {
      "cell_type": "code",
      "source": [
        "# Import spacy small library pour trouver des entités liées à la médecine\n",
        "nlp= spacy.load(\"en_core_web_sm\")"
      ],
      "metadata": {
        "id": "fMpiaCxKb_Lt"
      },
      "execution_count": 12,
      "outputs": []
    },
    {
      "cell_type": "code",
      "source": [
        "# Dataframe of POS tagging,Lemma word and Label for Train and test sentence\n",
        "train_df = pd.DataFrame(columns=['sentence','word','lemma','pos','label'])\n",
        "test_df = pd.DataFrame(columns=['sentence','word','lemma','pos','label'])"
      ],
      "metadata": {
        "id": "1qnGO304cHwC"
      },
      "execution_count": 13,
      "outputs": []
    },
    {
      "cell_type": "code",
      "source": [
        "#train datframe\n",
        "\n",
        "i=0 #Sentence count\n",
        "j=0 #Iteration count\n",
        "\n",
        "for sent,label in zip(train_sent,train_label):\n",
        "    i+=1\n",
        "    for s,l in zip(sent.split(),label.split()):\n",
        "        doc = nlp(s)\n",
        "        for tok in doc:\n",
        "            train_df.loc[j,['sentence','word','lemma','pos','label']] = [i,tok.text,tok.lemma_,tok.pos_,l]\n",
        "            j+=1"
      ],
      "metadata": {
        "id": "09vIA4P1cYnd"
      },
      "execution_count": 14,
      "outputs": []
    },
    {
      "cell_type": "code",
      "source": [
        ""
      ],
      "metadata": {
        "id": "gEP96sfz98Iy"
      },
      "execution_count": 14,
      "outputs": []
    },
    {
      "cell_type": "code",
      "source": [
        "#test datframe\n",
        "\n",
        "i=0 #Sentence count\n",
        "j=0 #Iteration count\n",
        "\n",
        "for sent,label in zip(test_sent,test_label):\n",
        "    i+=1\n",
        "    for s,l in zip(sent.split(),label.split()):\n",
        "        doc = nlp(s)\n",
        "        for tok in doc:\n",
        "            test_df.loc[j,['sentence','word','lemma','pos','label']] = [i,tok.text,tok.lemma_,tok.pos_,l]\n",
        "            j+=1"
      ],
      "metadata": {
        "id": "9NzpWWtYcqK1"
      },
      "execution_count": 15,
      "outputs": []
    },
    {
      "cell_type": "code",
      "source": [
        "# Word et la fréquence pour le mot qui contient NOUN or PROPN as POS tagging\n",
        "freq_df = pd.DataFrame()\n",
        "freq_df = pd.concat((train_df,test_df),axis=0)"
      ],
      "metadata": {
        "id": "moeDyotTct0p"
      },
      "execution_count": 16,
      "outputs": []
    },
    {
      "cell_type": "code",
      "source": [
        "# Indice de réinitialisation\n",
        "freq_df.reset_index(inplace=True,drop=True)"
      ],
      "metadata": {
        "id": "xYH2zIAZc7nf"
      },
      "execution_count": 17,
      "outputs": []
    },
    {
      "cell_type": "code",
      "source": [
        "# Top 25 most frequency values for Train and Test related dataset words\n",
        "freq_df[(freq_df['pos'] == 'NOUN') | ((freq_df['pos'] == 'PROPN'))]['word'].value_counts()[:25]"
      ],
      "metadata": {
        "colab": {
          "base_uri": "https://localhost:8080/"
        },
        "id": "hYy3CLn6dEy6",
        "outputId": "ad14decf-9278-4f1c-eea6-99c16ad46c22"
      },
      "execution_count": 18,
      "outputs": [
        {
          "output_type": "execute_result",
          "data": {
            "text/plain": [
              "patients        492\n",
              "treatment       281\n",
              "%               247\n",
              "cancer          200\n",
              "therapy         175\n",
              "study           162\n",
              "disease         143\n",
              "cell            140\n",
              "lung            116\n",
              "clinical         95\n",
              "group            94\n",
              "chemotherapy     88\n",
              "gene             88\n",
              "effects          85\n",
              "results          79\n",
              "use              78\n",
              "women            77\n",
              "risk             71\n",
              "surgery          71\n",
              "cases            71\n",
              "analysis         70\n",
              "associated       67\n",
              "rate             67\n",
              "response         66\n",
              "survival         65\n",
              "Name: word, dtype: int64"
            ]
          },
          "metadata": {},
          "execution_count": 18
        }
      ]
    },
    {
      "cell_type": "code",
      "source": [
        "# Top 25 most frequency values for Train and Test related lemma words\n",
        "freq_df[(freq_df['pos'] == 'NOUN') | ((freq_df['pos'] == 'PROPN'))]['lemma'].value_counts()[:25]"
      ],
      "metadata": {
        "colab": {
          "base_uri": "https://localhost:8080/"
        },
        "id": "eEwFny26dYhI",
        "outputId": "c382a46b-1d0b-4ea0-dc82-a43d98cf83ce"
      },
      "execution_count": 19,
      "outputs": [
        {
          "output_type": "execute_result",
          "data": {
            "text/plain": [
              "patient         502\n",
              "treatment       316\n",
              "%               247\n",
              "study           240\n",
              "cancer          226\n",
              "cell            203\n",
              "effect          182\n",
              "therapy         182\n",
              "disease         164\n",
              "group           145\n",
              "case            131\n",
              "lung            120\n",
              "gene            112\n",
              "rate            103\n",
              "clinical         95\n",
              "result           92\n",
              "trial            91\n",
              "woman            89\n",
              "conclusion       89\n",
              "chemotherapy     88\n",
              "analysis         86\n",
              "protein          82\n",
              "use              82\n",
              "response         81\n",
              "year             79\n",
              "Name: lemma, dtype: int64"
            ]
          },
          "metadata": {},
          "execution_count": 19
        }
      ]
    },
    {
      "cell_type": "code",
      "source": [
        "train_df.head(5)"
      ],
      "metadata": {
        "colab": {
          "base_uri": "https://localhost:8080/",
          "height": 206
        },
        "id": "wLQi7z6fdaqT",
        "outputId": "154bee2f-716b-4482-eefe-4ff4008fc9eb"
      },
      "execution_count": 20,
      "outputs": [
        {
          "output_type": "execute_result",
          "data": {
            "text/html": [
              "\n",
              "  <div id=\"df-eb0e0026-36e6-4572-9a4b-56ebd5a8dfae\">\n",
              "    <div class=\"colab-df-container\">\n",
              "      <div>\n",
              "<style scoped>\n",
              "    .dataframe tbody tr th:only-of-type {\n",
              "        vertical-align: middle;\n",
              "    }\n",
              "\n",
              "    .dataframe tbody tr th {\n",
              "        vertical-align: top;\n",
              "    }\n",
              "\n",
              "    .dataframe thead th {\n",
              "        text-align: right;\n",
              "    }\n",
              "</style>\n",
              "<table border=\"1\" class=\"dataframe\">\n",
              "  <thead>\n",
              "    <tr style=\"text-align: right;\">\n",
              "      <th></th>\n",
              "      <th>sentence</th>\n",
              "      <th>word</th>\n",
              "      <th>lemma</th>\n",
              "      <th>pos</th>\n",
              "      <th>label</th>\n",
              "    </tr>\n",
              "  </thead>\n",
              "  <tbody>\n",
              "    <tr>\n",
              "      <th>0</th>\n",
              "      <td>1</td>\n",
              "      <td>All</td>\n",
              "      <td>all</td>\n",
              "      <td>DET</td>\n",
              "      <td>O</td>\n",
              "    </tr>\n",
              "    <tr>\n",
              "      <th>1</th>\n",
              "      <td>1</td>\n",
              "      <td>live</td>\n",
              "      <td>live</td>\n",
              "      <td>VERB</td>\n",
              "      <td>O</td>\n",
              "    </tr>\n",
              "    <tr>\n",
              "      <th>2</th>\n",
              "      <td>1</td>\n",
              "      <td>births</td>\n",
              "      <td>birth</td>\n",
              "      <td>NOUN</td>\n",
              "      <td>O</td>\n",
              "    </tr>\n",
              "    <tr>\n",
              "      <th>3</th>\n",
              "      <td>1</td>\n",
              "      <td>&gt;</td>\n",
              "      <td>&gt;</td>\n",
              "      <td>X</td>\n",
              "      <td>O</td>\n",
              "    </tr>\n",
              "    <tr>\n",
              "      <th>4</th>\n",
              "      <td>1</td>\n",
              "      <td>or</td>\n",
              "      <td>or</td>\n",
              "      <td>CCONJ</td>\n",
              "      <td>O</td>\n",
              "    </tr>\n",
              "  </tbody>\n",
              "</table>\n",
              "</div>\n",
              "      <button class=\"colab-df-convert\" onclick=\"convertToInteractive('df-eb0e0026-36e6-4572-9a4b-56ebd5a8dfae')\"\n",
              "              title=\"Convert this dataframe to an interactive table.\"\n",
              "              style=\"display:none;\">\n",
              "        \n",
              "  <svg xmlns=\"http://www.w3.org/2000/svg\" height=\"24px\"viewBox=\"0 0 24 24\"\n",
              "       width=\"24px\">\n",
              "    <path d=\"M0 0h24v24H0V0z\" fill=\"none\"/>\n",
              "    <path d=\"M18.56 5.44l.94 2.06.94-2.06 2.06-.94-2.06-.94-.94-2.06-.94 2.06-2.06.94zm-11 1L8.5 8.5l.94-2.06 2.06-.94-2.06-.94L8.5 2.5l-.94 2.06-2.06.94zm10 10l.94 2.06.94-2.06 2.06-.94-2.06-.94-.94-2.06-.94 2.06-2.06.94z\"/><path d=\"M17.41 7.96l-1.37-1.37c-.4-.4-.92-.59-1.43-.59-.52 0-1.04.2-1.43.59L10.3 9.45l-7.72 7.72c-.78.78-.78 2.05 0 2.83L4 21.41c.39.39.9.59 1.41.59.51 0 1.02-.2 1.41-.59l7.78-7.78 2.81-2.81c.8-.78.8-2.07 0-2.86zM5.41 20L4 18.59l7.72-7.72 1.47 1.35L5.41 20z\"/>\n",
              "  </svg>\n",
              "      </button>\n",
              "      \n",
              "  <style>\n",
              "    .colab-df-container {\n",
              "      display:flex;\n",
              "      flex-wrap:wrap;\n",
              "      gap: 12px;\n",
              "    }\n",
              "\n",
              "    .colab-df-convert {\n",
              "      background-color: #E8F0FE;\n",
              "      border: none;\n",
              "      border-radius: 50%;\n",
              "      cursor: pointer;\n",
              "      display: none;\n",
              "      fill: #1967D2;\n",
              "      height: 32px;\n",
              "      padding: 0 0 0 0;\n",
              "      width: 32px;\n",
              "    }\n",
              "\n",
              "    .colab-df-convert:hover {\n",
              "      background-color: #E2EBFA;\n",
              "      box-shadow: 0px 1px 2px rgba(60, 64, 67, 0.3), 0px 1px 3px 1px rgba(60, 64, 67, 0.15);\n",
              "      fill: #174EA6;\n",
              "    }\n",
              "\n",
              "    [theme=dark] .colab-df-convert {\n",
              "      background-color: #3B4455;\n",
              "      fill: #D2E3FC;\n",
              "    }\n",
              "\n",
              "    [theme=dark] .colab-df-convert:hover {\n",
              "      background-color: #434B5C;\n",
              "      box-shadow: 0px 1px 3px 1px rgba(0, 0, 0, 0.15);\n",
              "      filter: drop-shadow(0px 1px 2px rgba(0, 0, 0, 0.3));\n",
              "      fill: #FFFFFF;\n",
              "    }\n",
              "  </style>\n",
              "\n",
              "      <script>\n",
              "        const buttonEl =\n",
              "          document.querySelector('#df-eb0e0026-36e6-4572-9a4b-56ebd5a8dfae button.colab-df-convert');\n",
              "        buttonEl.style.display =\n",
              "          google.colab.kernel.accessAllowed ? 'block' : 'none';\n",
              "\n",
              "        async function convertToInteractive(key) {\n",
              "          const element = document.querySelector('#df-eb0e0026-36e6-4572-9a4b-56ebd5a8dfae');\n",
              "          const dataTable =\n",
              "            await google.colab.kernel.invokeFunction('convertToInteractive',\n",
              "                                                     [key], {});\n",
              "          if (!dataTable) return;\n",
              "\n",
              "          const docLinkHtml = 'Like what you see? Visit the ' +\n",
              "            '<a target=\"_blank\" href=https://colab.research.google.com/notebooks/data_table.ipynb>data table notebook</a>'\n",
              "            + ' to learn more about interactive tables.';\n",
              "          element.innerHTML = '';\n",
              "          dataTable['output_type'] = 'display_data';\n",
              "          await google.colab.output.renderOutput(dataTable, element);\n",
              "          const docLink = document.createElement('div');\n",
              "          docLink.innerHTML = docLinkHtml;\n",
              "          element.appendChild(docLink);\n",
              "        }\n",
              "      </script>\n",
              "    </div>\n",
              "  </div>\n",
              "  "
            ],
            "text/plain": [
              "  sentence    word  lemma    pos label\n",
              "0        1     All    all    DET     O\n",
              "1        1    live   live   VERB     O\n",
              "2        1  births  birth   NOUN     O\n",
              "3        1       >      >      X     O\n",
              "4        1      or     or  CCONJ     O"
            ]
          },
          "metadata": {},
          "execution_count": 20
        }
      ]
    },
    {
      "cell_type": "code",
      "source": [
        "test_df.head(5)"
      ],
      "metadata": {
        "colab": {
          "base_uri": "https://localhost:8080/",
          "height": 206
        },
        "id": "7MMauGJAdtfk",
        "outputId": "2eb9768f-af83-40e7-e923-0c17df0b389d"
      },
      "execution_count": 21,
      "outputs": [
        {
          "output_type": "execute_result",
          "data": {
            "text/html": [
              "\n",
              "  <div id=\"df-4cf459d3-e1ba-4f03-b610-1a8cd67e03a3\">\n",
              "    <div class=\"colab-df-container\">\n",
              "      <div>\n",
              "<style scoped>\n",
              "    .dataframe tbody tr th:only-of-type {\n",
              "        vertical-align: middle;\n",
              "    }\n",
              "\n",
              "    .dataframe tbody tr th {\n",
              "        vertical-align: top;\n",
              "    }\n",
              "\n",
              "    .dataframe thead th {\n",
              "        text-align: right;\n",
              "    }\n",
              "</style>\n",
              "<table border=\"1\" class=\"dataframe\">\n",
              "  <thead>\n",
              "    <tr style=\"text-align: right;\">\n",
              "      <th></th>\n",
              "      <th>sentence</th>\n",
              "      <th>word</th>\n",
              "      <th>lemma</th>\n",
              "      <th>pos</th>\n",
              "      <th>label</th>\n",
              "    </tr>\n",
              "  </thead>\n",
              "  <tbody>\n",
              "    <tr>\n",
              "      <th>0</th>\n",
              "      <td>1</td>\n",
              "      <td>Furthermore</td>\n",
              "      <td>furthermore</td>\n",
              "      <td>ADV</td>\n",
              "      <td>O</td>\n",
              "    </tr>\n",
              "    <tr>\n",
              "      <th>1</th>\n",
              "      <td>1</td>\n",
              "      <td>,</td>\n",
              "      <td>,</td>\n",
              "      <td>PUNCT</td>\n",
              "      <td>O</td>\n",
              "    </tr>\n",
              "    <tr>\n",
              "      <th>2</th>\n",
              "      <td>1</td>\n",
              "      <td>when</td>\n",
              "      <td>when</td>\n",
              "      <td>ADV</td>\n",
              "      <td>O</td>\n",
              "    </tr>\n",
              "    <tr>\n",
              "      <th>3</th>\n",
              "      <td>1</td>\n",
              "      <td>all</td>\n",
              "      <td>all</td>\n",
              "      <td>DET</td>\n",
              "      <td>O</td>\n",
              "    </tr>\n",
              "    <tr>\n",
              "      <th>4</th>\n",
              "      <td>1</td>\n",
              "      <td>deliveries</td>\n",
              "      <td>delivery</td>\n",
              "      <td>NOUN</td>\n",
              "      <td>O</td>\n",
              "    </tr>\n",
              "  </tbody>\n",
              "</table>\n",
              "</div>\n",
              "      <button class=\"colab-df-convert\" onclick=\"convertToInteractive('df-4cf459d3-e1ba-4f03-b610-1a8cd67e03a3')\"\n",
              "              title=\"Convert this dataframe to an interactive table.\"\n",
              "              style=\"display:none;\">\n",
              "        \n",
              "  <svg xmlns=\"http://www.w3.org/2000/svg\" height=\"24px\"viewBox=\"0 0 24 24\"\n",
              "       width=\"24px\">\n",
              "    <path d=\"M0 0h24v24H0V0z\" fill=\"none\"/>\n",
              "    <path d=\"M18.56 5.44l.94 2.06.94-2.06 2.06-.94-2.06-.94-.94-2.06-.94 2.06-2.06.94zm-11 1L8.5 8.5l.94-2.06 2.06-.94-2.06-.94L8.5 2.5l-.94 2.06-2.06.94zm10 10l.94 2.06.94-2.06 2.06-.94-2.06-.94-.94-2.06-.94 2.06-2.06.94z\"/><path d=\"M17.41 7.96l-1.37-1.37c-.4-.4-.92-.59-1.43-.59-.52 0-1.04.2-1.43.59L10.3 9.45l-7.72 7.72c-.78.78-.78 2.05 0 2.83L4 21.41c.39.39.9.59 1.41.59.51 0 1.02-.2 1.41-.59l7.78-7.78 2.81-2.81c.8-.78.8-2.07 0-2.86zM5.41 20L4 18.59l7.72-7.72 1.47 1.35L5.41 20z\"/>\n",
              "  </svg>\n",
              "      </button>\n",
              "      \n",
              "  <style>\n",
              "    .colab-df-container {\n",
              "      display:flex;\n",
              "      flex-wrap:wrap;\n",
              "      gap: 12px;\n",
              "    }\n",
              "\n",
              "    .colab-df-convert {\n",
              "      background-color: #E8F0FE;\n",
              "      border: none;\n",
              "      border-radius: 50%;\n",
              "      cursor: pointer;\n",
              "      display: none;\n",
              "      fill: #1967D2;\n",
              "      height: 32px;\n",
              "      padding: 0 0 0 0;\n",
              "      width: 32px;\n",
              "    }\n",
              "\n",
              "    .colab-df-convert:hover {\n",
              "      background-color: #E2EBFA;\n",
              "      box-shadow: 0px 1px 2px rgba(60, 64, 67, 0.3), 0px 1px 3px 1px rgba(60, 64, 67, 0.15);\n",
              "      fill: #174EA6;\n",
              "    }\n",
              "\n",
              "    [theme=dark] .colab-df-convert {\n",
              "      background-color: #3B4455;\n",
              "      fill: #D2E3FC;\n",
              "    }\n",
              "\n",
              "    [theme=dark] .colab-df-convert:hover {\n",
              "      background-color: #434B5C;\n",
              "      box-shadow: 0px 1px 3px 1px rgba(0, 0, 0, 0.15);\n",
              "      filter: drop-shadow(0px 1px 2px rgba(0, 0, 0, 0.3));\n",
              "      fill: #FFFFFF;\n",
              "    }\n",
              "  </style>\n",
              "\n",
              "      <script>\n",
              "        const buttonEl =\n",
              "          document.querySelector('#df-4cf459d3-e1ba-4f03-b610-1a8cd67e03a3 button.colab-df-convert');\n",
              "        buttonEl.style.display =\n",
              "          google.colab.kernel.accessAllowed ? 'block' : 'none';\n",
              "\n",
              "        async function convertToInteractive(key) {\n",
              "          const element = document.querySelector('#df-4cf459d3-e1ba-4f03-b610-1a8cd67e03a3');\n",
              "          const dataTable =\n",
              "            await google.colab.kernel.invokeFunction('convertToInteractive',\n",
              "                                                     [key], {});\n",
              "          if (!dataTable) return;\n",
              "\n",
              "          const docLinkHtml = 'Like what you see? Visit the ' +\n",
              "            '<a target=\"_blank\" href=https://colab.research.google.com/notebooks/data_table.ipynb>data table notebook</a>'\n",
              "            + ' to learn more about interactive tables.';\n",
              "          element.innerHTML = '';\n",
              "          dataTable['output_type'] = 'display_data';\n",
              "          await google.colab.output.renderOutput(dataTable, element);\n",
              "          const docLink = document.createElement('div');\n",
              "          docLink.innerHTML = docLinkHtml;\n",
              "          element.appendChild(docLink);\n",
              "        }\n",
              "      </script>\n",
              "    </div>\n",
              "  </div>\n",
              "  "
            ],
            "text/plain": [
              "  sentence         word        lemma    pos label\n",
              "0        1  Furthermore  furthermore    ADV     O\n",
              "1        1            ,            ,  PUNCT     O\n",
              "2        1         when         when    ADV     O\n",
              "3        1          all          all    DET     O\n",
              "4        1   deliveries     delivery   NOUN     O"
            ]
          },
          "metadata": {},
          "execution_count": 21
        }
      ]
    },
    {
      "cell_type": "code",
      "source": [
        "# Récupérer la vue détaillée de  sentence for train set\n",
        "train_sent_obj = sentencedetail(train_df)\n",
        "train_sent_detail = train_sent_obj.sentences"
      ],
      "metadata": {
        "id": "vnU1ka_Cdv4e"
      },
      "execution_count": 22,
      "outputs": []
    },
    {
      "cell_type": "code",
      "source": [
        "# Afficher une sentence detail view for train set\n",
        "train_sent_detail[0]"
      ],
      "metadata": {
        "colab": {
          "base_uri": "https://localhost:8080/"
        },
        "id": "kCGBVzRad7XP",
        "outputId": "78187570-c973-46e8-cff2-89ee17c75434"
      },
      "execution_count": 23,
      "outputs": [
        {
          "output_type": "execute_result",
          "data": {
            "text/plain": [
              "[('All', 'DET', 'O'),\n",
              " ('live', 'VERB', 'O'),\n",
              " ('births', 'NOUN', 'O'),\n",
              " ('>', 'X', 'O'),\n",
              " ('or', 'CCONJ', 'O'),\n",
              " ('=', 'X', 'O'),\n",
              " ('23', 'NUM', 'O'),\n",
              " ('weeks', 'NOUN', 'O'),\n",
              " ('at', 'ADP', 'O'),\n",
              " ('the', 'DET', 'O'),\n",
              " ('University', 'NOUN', 'O'),\n",
              " ('of', 'ADP', 'O'),\n",
              " ('Vermont', 'PROPN', 'O'),\n",
              " ('in', 'ADP', 'O'),\n",
              " ('1995', 'NUM', 'O'),\n",
              " ('(', 'PUNCT', 'O'),\n",
              " ('n', 'X', 'O'),\n",
              " ('=', 'X', 'O'),\n",
              " ('2395', 'NUM', 'O'),\n",
              " (')', 'PUNCT', 'O'),\n",
              " ('were', 'AUX', 'O'),\n",
              " ('retrospectively', 'ADV', 'O'),\n",
              " ('analyzed', 'VERB', 'O'),\n",
              " ('for', 'ADP', 'O'),\n",
              " ('delivery', 'NOUN', 'O'),\n",
              " ('route', 'PROPN', 'O'),\n",
              " (',', 'PUNCT', 'O'),\n",
              " ('indication', 'NOUN', 'O'),\n",
              " ('for', 'ADP', 'O'),\n",
              " ('cesarean', 'PROPN', 'O'),\n",
              " (',', 'PUNCT', 'O'),\n",
              " ('gestational', 'ADJ', 'O'),\n",
              " ('age', 'NOUN', 'O'),\n",
              " (',', 'PUNCT', 'O'),\n",
              " ('parity', 'PROPN', 'O'),\n",
              " (',', 'PUNCT', 'O'),\n",
              " ('and', 'CCONJ', 'O'),\n",
              " ('practice', 'NOUN', 'O'),\n",
              " ('group', 'NOUN', 'O'),\n",
              " ('(', 'PUNCT', 'O'),\n",
              " ('to', 'ADP', 'O'),\n",
              " ('reflect', 'VERB', 'O'),\n",
              " ('risk', 'NOUN', 'O'),\n",
              " ('status', 'PROPN', 'O'),\n",
              " (')', 'PUNCT', 'O')]"
            ]
          },
          "metadata": {},
          "execution_count": 23
        }
      ]
    },
    {
      "cell_type": "code",
      "source": [
        "# Fetch detail view of sentence for train set\n",
        "test_sent_obj = sentencedetail(test_df)\n",
        "test_sent_detail = test_sent_obj.sentences"
      ],
      "metadata": {
        "id": "L-FnGnjyeC6H"
      },
      "execution_count": 24,
      "outputs": []
    },
    {
      "cell_type": "code",
      "source": [
        "# Display one sentence detail view for train set\n",
        "test_sent_detail[0]"
      ],
      "metadata": {
        "colab": {
          "base_uri": "https://localhost:8080/"
        },
        "id": "2Ux92TYieL7V",
        "outputId": "19d5a91b-9519-4c87-8534-502a43330b6c"
      },
      "execution_count": 25,
      "outputs": [
        {
          "output_type": "execute_result",
          "data": {
            "text/plain": [
              "[('Furthermore', 'ADV', 'O'),\n",
              " (',', 'PUNCT', 'O'),\n",
              " ('when', 'ADV', 'O'),\n",
              " ('all', 'DET', 'O'),\n",
              " ('deliveries', 'NOUN', 'O'),\n",
              " ('were', 'AUX', 'O'),\n",
              " ('analyzed', 'VERB', 'O'),\n",
              " (',', 'PUNCT', 'O'),\n",
              " ('regardless', 'ADV', 'O'),\n",
              " ('of', 'ADP', 'O'),\n",
              " ('risk', 'NOUN', 'O'),\n",
              " ('status', 'PROPN', 'O'),\n",
              " ('but', 'CCONJ', 'O'),\n",
              " ('limited', 'PROPN', 'O'),\n",
              " ('to', 'ADP', 'O'),\n",
              " ('gestational', 'ADJ', 'O'),\n",
              " ('age', 'NOUN', 'O'),\n",
              " ('>', 'X', 'O'),\n",
              " ('or', 'CCONJ', 'O'),\n",
              " ('=', 'X', 'O'),\n",
              " ('36', 'NUM', 'O'),\n",
              " ('weeks', 'NOUN', 'O'),\n",
              " (',', 'PUNCT', 'O'),\n",
              " ('the', 'DET', 'O'),\n",
              " ('rates', 'NOUN', 'O'),\n",
              " ('did', 'AUX', 'O'),\n",
              " ('not', 'PART', 'O'),\n",
              " ('change', 'NOUN', 'O'),\n",
              " ('(', 'PUNCT', 'O'),\n",
              " ('12.6', 'NUM', 'O'),\n",
              " ('%', 'NOUN', 'O'),\n",
              " (',', 'PUNCT', 'O'),\n",
              " ('280', 'NUM', 'O'),\n",
              " ('of', 'ADP', 'O'),\n",
              " ('2214', 'NUM', 'O'),\n",
              " (';', 'PUNCT', 'O'),\n",
              " ('primary', 'ADJ', 'O'),\n",
              " ('9.2', 'NUM', 'O'),\n",
              " ('%', 'NOUN', 'O'),\n",
              " (',', 'PUNCT', 'O'),\n",
              " ('183', 'NUM', 'O'),\n",
              " ('of', 'ADP', 'O'),\n",
              " ('1994', 'NUM', 'O'),\n",
              " (')', 'PUNCT', 'O')]"
            ]
          },
          "metadata": {},
          "execution_count": 25
        }
      ]
    },
    {
      "cell_type": "code",
      "source": [
        "# Prepare X-train and X-test by extracting features from train and test dataset\n",
        "X_train = [sent2features(s) for s in train_sent_detail]\n",
        "X_test = [sent2features(s) for s in test_sent_detail]"
      ],
      "metadata": {
        "id": "PuavUwBReP_Y"
      },
      "execution_count": 26,
      "outputs": []
    },
    {
      "cell_type": "code",
      "source": [
        "# Prepare y-train and y-test by extracting labels from train and test dataset\n",
        "y_train = [sent2labels(l) for l in train_sent_detail]\n",
        "y_test = [sent2labels(l) for l in test_sent_detail]"
      ],
      "metadata": {
        "id": "bYqkwLJ0eY8x"
      },
      "execution_count": 27,
      "outputs": []
    },
    {
      "cell_type": "code",
      "source": [
        "# Build the CRF model.\n",
        "crf = CRF(max_iterations=100, c1=1.0, c2=0.01, all_possible_transitions=False)"
      ],
      "metadata": {
        "id": "BwdQb-sIgZJk"
      },
      "execution_count": 28,
      "outputs": []
    },
    {
      "cell_type": "code",
      "source": [
        "try:\n",
        "    crf.fit(X_train, y_train)\n",
        "except AttributeError:\n",
        "    pass\n",
        "predictions = crf.predict(X_test)"
      ],
      "metadata": {
        "id": "VMUamYtMgdBL"
      },
      "execution_count": 29,
      "outputs": []
    },
    {
      "cell_type": "code",
      "source": [
        "y_pred = crf.predict(X_test)\n",
        "f1_score = metrics.flat_f1_score(y_test, y_pred, average='weighted')\n",
        "print('Predicted F1-score for Medical Entity Dataset is: {0} % '.format(round(f1_score*100,2)))"
      ],
      "metadata": {
        "colab": {
          "base_uri": "https://localhost:8080/"
        },
        "id": "fjN_DY2oqjAw",
        "outputId": "faa52f72-ff98-4ada-b536-fb9d2704f7b4"
      },
      "execution_count": 30,
      "outputs": [
        {
          "output_type": "stream",
          "name": "stdout",
          "text": [
            "Predicted F1-score for Medical Entity Dataset is: 91.7 % \n"
          ]
        }
      ]
    },
    {
      "cell_type": "code",
      "source": [
        "# Taken out predicted label from the model\n",
        "pred_label=[]\n",
        "for i in y_pred:\n",
        "    pred_label.extend(i)"
      ],
      "metadata": {
        "id": "6D8p6jV-qrTD"
      },
      "execution_count": 31,
      "outputs": []
    },
    {
      "cell_type": "code",
      "source": [
        "# Loaded into test dataframe\n",
        "test_df['label_predicted'] = pred_label"
      ],
      "metadata": {
        "id": "pRUzBFMTqv2Y"
      },
      "execution_count": 32,
      "outputs": []
    },
    {
      "cell_type": "code",
      "source": [
        ""
      ],
      "metadata": {
        "id": "nIRK2C_ZGlMr"
      },
      "execution_count": 32,
      "outputs": []
    },
    {
      "cell_type": "code",
      "source": [
        "# Visualise top 5 data\n",
        "test_df.head(5)"
      ],
      "metadata": {
        "colab": {
          "base_uri": "https://localhost:8080/",
          "height": 206
        },
        "id": "HmgVcO7Fq1eA",
        "outputId": "f16a0461-384b-4a91-a119-f6f2c5fa86a4"
      },
      "execution_count": 33,
      "outputs": [
        {
          "output_type": "execute_result",
          "data": {
            "text/html": [
              "\n",
              "  <div id=\"df-2d57a48b-e5e6-449a-8bf8-ceee94b0c336\">\n",
              "    <div class=\"colab-df-container\">\n",
              "      <div>\n",
              "<style scoped>\n",
              "    .dataframe tbody tr th:only-of-type {\n",
              "        vertical-align: middle;\n",
              "    }\n",
              "\n",
              "    .dataframe tbody tr th {\n",
              "        vertical-align: top;\n",
              "    }\n",
              "\n",
              "    .dataframe thead th {\n",
              "        text-align: right;\n",
              "    }\n",
              "</style>\n",
              "<table border=\"1\" class=\"dataframe\">\n",
              "  <thead>\n",
              "    <tr style=\"text-align: right;\">\n",
              "      <th></th>\n",
              "      <th>sentence</th>\n",
              "      <th>word</th>\n",
              "      <th>lemma</th>\n",
              "      <th>pos</th>\n",
              "      <th>label</th>\n",
              "      <th>label_predicted</th>\n",
              "    </tr>\n",
              "  </thead>\n",
              "  <tbody>\n",
              "    <tr>\n",
              "      <th>0</th>\n",
              "      <td>1</td>\n",
              "      <td>Furthermore</td>\n",
              "      <td>furthermore</td>\n",
              "      <td>ADV</td>\n",
              "      <td>O</td>\n",
              "      <td>O</td>\n",
              "    </tr>\n",
              "    <tr>\n",
              "      <th>1</th>\n",
              "      <td>1</td>\n",
              "      <td>,</td>\n",
              "      <td>,</td>\n",
              "      <td>PUNCT</td>\n",
              "      <td>O</td>\n",
              "      <td>O</td>\n",
              "    </tr>\n",
              "    <tr>\n",
              "      <th>2</th>\n",
              "      <td>1</td>\n",
              "      <td>when</td>\n",
              "      <td>when</td>\n",
              "      <td>ADV</td>\n",
              "      <td>O</td>\n",
              "      <td>O</td>\n",
              "    </tr>\n",
              "    <tr>\n",
              "      <th>3</th>\n",
              "      <td>1</td>\n",
              "      <td>all</td>\n",
              "      <td>all</td>\n",
              "      <td>DET</td>\n",
              "      <td>O</td>\n",
              "      <td>O</td>\n",
              "    </tr>\n",
              "    <tr>\n",
              "      <th>4</th>\n",
              "      <td>1</td>\n",
              "      <td>deliveries</td>\n",
              "      <td>delivery</td>\n",
              "      <td>NOUN</td>\n",
              "      <td>O</td>\n",
              "      <td>O</td>\n",
              "    </tr>\n",
              "  </tbody>\n",
              "</table>\n",
              "</div>\n",
              "      <button class=\"colab-df-convert\" onclick=\"convertToInteractive('df-2d57a48b-e5e6-449a-8bf8-ceee94b0c336')\"\n",
              "              title=\"Convert this dataframe to an interactive table.\"\n",
              "              style=\"display:none;\">\n",
              "        \n",
              "  <svg xmlns=\"http://www.w3.org/2000/svg\" height=\"24px\"viewBox=\"0 0 24 24\"\n",
              "       width=\"24px\">\n",
              "    <path d=\"M0 0h24v24H0V0z\" fill=\"none\"/>\n",
              "    <path d=\"M18.56 5.44l.94 2.06.94-2.06 2.06-.94-2.06-.94-.94-2.06-.94 2.06-2.06.94zm-11 1L8.5 8.5l.94-2.06 2.06-.94-2.06-.94L8.5 2.5l-.94 2.06-2.06.94zm10 10l.94 2.06.94-2.06 2.06-.94-2.06-.94-.94-2.06-.94 2.06-2.06.94z\"/><path d=\"M17.41 7.96l-1.37-1.37c-.4-.4-.92-.59-1.43-.59-.52 0-1.04.2-1.43.59L10.3 9.45l-7.72 7.72c-.78.78-.78 2.05 0 2.83L4 21.41c.39.39.9.59 1.41.59.51 0 1.02-.2 1.41-.59l7.78-7.78 2.81-2.81c.8-.78.8-2.07 0-2.86zM5.41 20L4 18.59l7.72-7.72 1.47 1.35L5.41 20z\"/>\n",
              "  </svg>\n",
              "      </button>\n",
              "      \n",
              "  <style>\n",
              "    .colab-df-container {\n",
              "      display:flex;\n",
              "      flex-wrap:wrap;\n",
              "      gap: 12px;\n",
              "    }\n",
              "\n",
              "    .colab-df-convert {\n",
              "      background-color: #E8F0FE;\n",
              "      border: none;\n",
              "      border-radius: 50%;\n",
              "      cursor: pointer;\n",
              "      display: none;\n",
              "      fill: #1967D2;\n",
              "      height: 32px;\n",
              "      padding: 0 0 0 0;\n",
              "      width: 32px;\n",
              "    }\n",
              "\n",
              "    .colab-df-convert:hover {\n",
              "      background-color: #E2EBFA;\n",
              "      box-shadow: 0px 1px 2px rgba(60, 64, 67, 0.3), 0px 1px 3px 1px rgba(60, 64, 67, 0.15);\n",
              "      fill: #174EA6;\n",
              "    }\n",
              "\n",
              "    [theme=dark] .colab-df-convert {\n",
              "      background-color: #3B4455;\n",
              "      fill: #D2E3FC;\n",
              "    }\n",
              "\n",
              "    [theme=dark] .colab-df-convert:hover {\n",
              "      background-color: #434B5C;\n",
              "      box-shadow: 0px 1px 3px 1px rgba(0, 0, 0, 0.15);\n",
              "      filter: drop-shadow(0px 1px 2px rgba(0, 0, 0, 0.3));\n",
              "      fill: #FFFFFF;\n",
              "    }\n",
              "  </style>\n",
              "\n",
              "      <script>\n",
              "        const buttonEl =\n",
              "          document.querySelector('#df-2d57a48b-e5e6-449a-8bf8-ceee94b0c336 button.colab-df-convert');\n",
              "        buttonEl.style.display =\n",
              "          google.colab.kernel.accessAllowed ? 'block' : 'none';\n",
              "\n",
              "        async function convertToInteractive(key) {\n",
              "          const element = document.querySelector('#df-2d57a48b-e5e6-449a-8bf8-ceee94b0c336');\n",
              "          const dataTable =\n",
              "            await google.colab.kernel.invokeFunction('convertToInteractive',\n",
              "                                                     [key], {});\n",
              "          if (!dataTable) return;\n",
              "\n",
              "          const docLinkHtml = 'Like what you see? Visit the ' +\n",
              "            '<a target=\"_blank\" href=https://colab.research.google.com/notebooks/data_table.ipynb>data table notebook</a>'\n",
              "            + ' to learn more about interactive tables.';\n",
              "          element.innerHTML = '';\n",
              "          dataTable['output_type'] = 'display_data';\n",
              "          await google.colab.output.renderOutput(dataTable, element);\n",
              "          const docLink = document.createElement('div');\n",
              "          docLink.innerHTML = docLinkHtml;\n",
              "          element.appendChild(docLink);\n",
              "        }\n",
              "      </script>\n",
              "    </div>\n",
              "  </div>\n",
              "  "
            ],
            "text/plain": [
              "  sentence         word        lemma    pos label label_predicted\n",
              "0        1  Furthermore  furthermore    ADV     O               O\n",
              "1        1            ,            ,  PUNCT     O               O\n",
              "2        1         when         when    ADV     O               O\n",
              "3        1          all          all    DET     O               O\n",
              "4        1   deliveries     delivery   NOUN     O               O"
            ]
          },
          "metadata": {},
          "execution_count": 33
        }
      ]
    },
    {
      "cell_type": "code",
      "source": [
        "# Preparing dictionary by keeping Disease as unique Key element and Treatment as value element\n",
        "new_df =test_df[(test_df['label_predicted'] != 'O')]\n",
        "new_df.set_index('sentence',inplace=True)\n",
        "disease=[]\n",
        "treatment=[]\n",
        "sentence=[]\n",
        "med_dict = {}\n",
        "for i in new_df.index.unique():\n",
        "    try:\n",
        "        val = new_df.loc[i,'label_predicted'].unique()\n",
        "        if len(val) == 2:\n",
        "            disease_val = new_df[new_df['label_predicted'] == 'D'].loc[i,'word']\n",
        "            treatment_val = new_df[new_df['label_predicted'] == 'T'].loc[i,'word']\n",
        "            disease_single = disease_val if type(disease_val) == str else \" \".join(disease_val)\n",
        "            treatment_single = treatment_val if type(treatment_val) == str else \" \".join(treatment_val)\n",
        "            if disease_single not in disease:\n",
        "                med_dict[disease_single] = treatment_single\n",
        "            else:\n",
        "                print('Entered')\n",
        "                med_dict[disease_single] = med_dict.get(disease_single)+'/'+treatment_single\n",
        "    except AttributeError:\n",
        "        pass"
      ],
      "metadata": {
        "id": "TUfL9342q3ts"
      },
      "execution_count": 34,
      "outputs": []
    },
    {
      "cell_type": "code",
      "source": [
        "print(med_dict)"
      ],
      "metadata": {
        "colab": {
          "base_uri": "https://localhost:8080/"
        },
        "id": "B9v9VOshq9Rj",
        "outputId": "c0411c33-b2d5-4b27-ce55-5e193cade47b"
      },
      "execution_count": 35,
      "outputs": [
        {
          "output_type": "stream",
          "name": "stdout",
          "text": [
            "{'diabetes cases': 'good glycemic control', 'nonimmune hydrops fetalis': 'Trisomy', 'retinoblastoma': 'radiotherapy', 'epilepsy': 'Methylphenidate', 'myocardial infarction': 'warfarin with 80 mg aspirin , or 1 mg warfarin with 80 mg aspirin', 'unstable angina or non - Q - wave myocardial infarction': 'roxithromycin', 'coronary - artery disease': 'Antichlamydial antibiotics', 'primary pulmonary hypertension ( PPH )': 'fenfluramines', 'essential hypertension': 'moxonidine', 'foot infection': 'G - CSF treatment', 'hemorrhagic stroke': 'double - bolus alteplase infusion of alteplase ( P=0.24', 'cardiac disease': 'fenfluramine - phentermine', 'rheumatoid arthritis': 'arthrodesis', \"early Parkinson 's disease\": 'Ropinirole monotherapy', 'sore throat': 'Antibiotics prescribed', 'female stress urinary incontinence': 'surgical treatment', 'corpal gastritis': 'gastric acid secretion', 'preeclampsia ( proteinuric hypertension )': 'intrauterine insemination with donor sperm versus intrauterine insemination', 'mild preeclampsia preeclampsia': 'partner insemination program donor insemination program', 'severe acquired hyperammonemia cancer': 'organ transplantation and chemotherapy', 'major pulmonary embolism': 'thrombolytic treatment', 'malignant pleural mesothelioma': 'thoracotomy , radiotherapy , and chemotherapy', 'tumor necrosis factor - alpha': 'interleukin-6 and interferon - gamma', 'non - obstructive azoospermia': 'TEFNA', 'testicular bleeding': 'fine needle aspiration', 'heart failure': 'beta - blockade', 'duodenal ulcer': 'subtotal gastrectomy', 'colorectal cancer': 'docosahexanoic acid ( DHA ) -concentrated fish oil capsules', 'gastrointestinal tumours': 'Elective surgery', 'bronchial asthma': 'Non - steroidal anti - inflammatory therapy', \"'s disease\": 'Ovine Johne', \"Parkinson 's disease\": 'Microelectrode - guided posteroventral pallidotomy', 'Alopecia': 'tacrolimus therapy', \"Eisenmenger 's syndrome\": 'laparoscopic cholecystectomy', 'breast cancer': 'Hormone replacement therapy', 'non - seminomatous germ - cell tumors': 'chemotherapy', 'orthotopic tumor control': 'adenovirus - mediated interleukin 12 ( il-12 ) gene therapy', 'malignant tumors such as non - small cell lung cancer': 'surgery', 'recurrent cervical adenocarcinoma': 'weekly paclitaxel', 'inflammatory skin diseases': 'topical corticosteroids', 'nsclc nsclc ( stage iiib ) sclc , limited disease': 'surgical treatment chemo- and radiotherapy', 'nsclc': 'chemotherapy', 'locally advanced non - small - cell lung cancer ( la - nsclc )': 'chemotherapy and radiotherapy )', 'radiation - induced myelopathy': 'heparin and enoxaparin', 'limited stage small cell lung cancer': 'vip combination chemotherapy and early concurrent thoracic irradiation', 'regionally advanced disease': 'resection , allowing neoadjuvant therapy', 'malignant pleural effusions from nsclc': 'systemic chemotherapy', 'small - cell lung cancer': 'combination chemotherapy', 'intraluminal early - stage cancer': 'photodynamic therapy , nd - yag laser and electrocautery', 'supraclavicular node metastases in nsclc': 'chemoradiotherapy', 'non - small - cell - lung - cancer ( nsclc )': 'cisplatin and radiotherapy', 'lung carcinoma': 'curative therapy', 'melanoma ovarian carcinoma brain metastasis': 'surgical resection', 'colorectal metastases': 'therapeutic vats metastasectomy', 'limited - stage small - cell carcinoma of the lung': 'combined - modality therapy', 'advanced nsclc': 'combination chemotherapy of cisplatin , ifosfamide and irinotecan with rhg - csf support', 'metastatic colorectal cancer': 'intravenous oxaliplatin combination with other agents', \"non - hodgkin 's lymphoma breast cancer mesothelioma and non - small cell lung cancer\": 'oxaliplatin', 'primary tumor ( li ) bronchogenic carcinoma': 'resection', 'non - small cell lung cancer hormone refractory prostate cancer': 'paclitaxel and carboplatin', 'primary lung cancer adenocarcinoma squamous cell carcinoma ( sq )': 'resection', 'stage iii nsclc': 'chemotherapy administered before surgery or definitive irradiation', 'primary cancer': 'adjuvant radiation therapy', 'advanced non -- small - cell lung cancer': 'paclitaxel plus carboplatin ( pc ) vinorelbine plus cisplatin ( vc )', 'sclc limited disease extensive disease': 'platinum dose ( cisplatin plus carboplatin ) in combination chemotherapy combination therapy with carboplatin', 'small cell lung cancer ( sclc ) untreated sclc': 'technetium-99 m tetrofosmin ( tc - tf ) accumulation chemotherapy', 'head and neck cancer xerostomia': 'irradiation therapy intravenous amifostine', 'psoriasis': 'topical therapy', 'disseminated malignant melanoma': 'leukocyte A recombinant interferon ( rIFN - alpha A , Roferon - A', 'advanced stage ( TNM IIB - IVB ) mycosis fungoides': 'combination chemotherapy program consisting of bleomycin and methotrexate weekly', 'ventricular tachycardia': 'surgical therapy', 'non - functioning endocrine pancreatic tumor': 'i.m . lanreotide therapy', 'cholestasis': 'crude drugs', 'severe acute hepatitis accompanying cholestasis autoimmune hepatitis': 'TJ-135', 'syringomyelia spinal adhesive arachnoiditis': 'Surgical management', 'symptomatic bronchiectasis': 'antibiotics , antibronchoobstructive medication , and chest physical therapy', 'bronchiectasis': 'Current surgical therapy', 'biliary colic symptoms biliary dyskinesia': 'cholecystectomy', 'biliary dyskinesia': 'Cholecystectomy', 'common cold': 'Macrolide antibiotics', 'inflammation': 'video - assisted thoracoscopic surgery', 'acute nasopharyngitis': 'antibiotic treatment', 'infection rhinovirus': 'rhinovirus colds', 'influenza breast cancer': 'vaccination', 'infection': 'combination of omeprazole , amoxicillin , and clarithromycin', 'carcinoma': 'esophagectomy', 'persistent asthma': 'Contemporary asthma management guidelines list inhaled corticosteroids', 'asthma': 'Fluticasone propionate', 'chronic hepatitis C': 'Combination therapy with interferon - alpha ( IFN alpha ) plus Ribavirin', 'hepatitis C viremia': 'combination therapy', 'duodenogastric reflux': 'cholecystectomy', 'severe hypoxemia': 'glucocorticoid pulse therapy', 'bacterial meningitis Haemophilus influenzae meningitis': 'antibiotic - resistant strains', 'acute myocardial infarction': 'thrombolytic treatment', 'depression': 'venlafaxine', 'ischemic heart disease': 'Aortocoronary bypass grafting', 'preexisting s.c . tumors tumors': 'Subcutaneous injection of irradiated LLC - IL2', 'acute occlusion of the middle cerebral artery high - grade stenosis': 'thrombolytic therapy', 'autoimmune diseases': 'High - dose intravenous immunoglobulin ( hdIVIg )', 'cancer': 'Matrix metalloproteinase inhibitors', 'phaeochromocytoma': 'Adrenalectomy', 'malignant melanoma': 'interferon alfa-2a', 'advanced renal cell carcinoma': 'interferon alfa - N1 , interferon alfa-2a , and interferon alfa-2b', 'hairy cell leukemia infection': 'antileukemic therapy', \"low - grade non - Hodgkin 's lymphoma\": 'interferon alpha', \"low - grade non - Hodgkin 's lymphomas\": 'interferon interferon', 'partial seizures': 'lamotrigine monotherapy', 'esophageal achalasia': 'botulinum toxin injection , pneumatic dilation , and laparoscopic myotomy', 'irritable bowel syndrome': 'Chinese herbal medicine', 'proximal hypospadias': 'Tubularized incised plate hypospadias repair', 'prostate cancer': 'radical prostatectomy and iodine 125 interstitial radiotherapy', 'mitomycin - resistant bladder cancer': 'photodynamic therapy in combination with mitomycin C', 'B16 melanoma': 'adenosine triphosphate and treatment buthionine sulfoximine', 'primary uveal melanoma': 'transpupillary thermotherapy', 'advanced rectal cancer': 'Nerve - sparing surgery', 'spontaneous pneumothorax': 'Thoracoscopic surgery', 'empyema': 'Thoracoscopy', 'acute cerebral ischemia': 'Antiplatelet therapy', 'renal cell carcinoma': 'Interferon treatment', 'myocardial angiogenesis': 'Gene therapy', 'autoimmune hemolytic anemia': 'heparin', 'epithelial ovarian cancer': 'High - dose chemotherapy with autologous stem - cell support', 'diabetes mellitus': 'troglitazone', 'lymphoma': 'Paclitaxel', 'renovascular hypertension': 'Percutaneous transluminal angioplasty', 'moderately symptomatic benign prostatic hyperplasia': 'surgical resection', 'pulmonary hypertension': 'Single or double lung transplantation', 'multiple sclerosis': 'Intravenous immunoglobulin treatment', 'acoustic neuroma': 'Stereotactic radiosurgery', 'cerebral palsy': 'Hyperbaric oxygen therapy', 'postvitrectomy diabetic vitreous hemorrhage': 'Peripheral retinal cryotherapy', 'novel hepatitis B': 'vaccine', 'pertussis': 'vaccines', 'acute colonic pseudo - obstruction': 'Neostigmine', 'perioperative mortality and myocardial infarction': 'vascular surgery', 'severe secondary peritonitis': 'Surgical management', 'hepatic metastases from colorectal cancer': 'Hepatic arterial infusion of chemotherapy', 'severe diverticular hemorrhage': 'Urgent colonoscopy', 'responsive multiple myeloma': \"Tandem '' high - dose chemoradiotherapy with autologous stem - cell support\"}\n"
          ]
        }
      ]
    },
    {
      "cell_type": "code",
      "source": [
        "#Predict treatment withthe help of dictionary\n",
        "d=[]\n",
        "disease=''\n",
        "test_sent=[]\n",
        "treatment=''\n",
        "\n",
        "input_sent = 'Rahul suffering from advanced rectal cancer'\n",
        "m = spacy.load('en_core_web_sm')\n",
        "doc = m(input_sent)\n",
        "for i in doc:\n",
        "    d.append((i.text,i.pos_,'D'))\n",
        "test_sent.append(sent2features(d))\n",
        "for i,tag in enumerate(crf.predict(test_sent)[0]):\n",
        "    if tag == 'D':\n",
        "        tr = input_sent.split()[i]\n",
        "        disease += tr\n",
        "        if tr in med_dict:\n",
        "            treatment += ''+med_dict.get(tr)\n",
        "if len(treatment) == 0:\n",
        "    treatment='None'\n",
        "print('Identified Disease: ',disease)\n",
        "print('Identified Treatment: ', treatment)"
      ],
      "metadata": {
        "colab": {
          "base_uri": "https://localhost:8080/"
        },
        "id": "42dsRxaWrA5M",
        "outputId": "548f1d75-1124-4454-dd6b-9a157219460c"
      },
      "execution_count": 36,
      "outputs": [
        {
          "output_type": "stream",
          "name": "stdout",
          "text": [
            "Identified Disease:  rectalcancer\n",
            "Identified Treatment:  Matrix metalloproteinase inhibitors\n"
          ]
        }
      ]
    },
    {
      "cell_type": "code",
      "source": [
        "from sklearn.metrics import  classification_report\n",
        "from sklearn.preprocessing import MultiLabelBinarizer\n",
        "y_test=MultiLabelBinarizer().fit_transform(y_test)\n",
        "y_pred=MultiLabelBinarizer().fit_transform(y_pred)\n",
        "cr=classification_report(y_test,y_pred)\n",
        "print(cr)"
      ],
      "metadata": {
        "colab": {
          "base_uri": "https://localhost:8080/"
        },
        "id": "hPKxDXt06pcf",
        "outputId": "7402dd94-340b-4304-b6ed-bacb2773a986"
      },
      "execution_count": 39,
      "outputs": [
        {
          "output_type": "stream",
          "name": "stdout",
          "text": [
            "              precision    recall  f1-score   support\n",
            "\n",
            "           0       0.83      0.98      0.90       759\n",
            "           1       1.00      1.00      1.00      1056\n",
            "\n",
            "   micro avg       0.92      0.99      0.95      1815\n",
            "   macro avg       0.91      0.99      0.95      1815\n",
            "weighted avg       0.93      0.99      0.96      1815\n",
            " samples avg       0.93      0.99      0.95      1815\n",
            "\n"
          ]
        }
      ]
    }
  ]
}